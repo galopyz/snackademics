{
 "cells": [
  {
   "cell_type": "markdown",
   "metadata": {},
   "source": [
    "# wiki article\n",
    "\n",
    "> Getting a wiki article and analyze to give a rating based on reader's background."
   ]
  },
  {
   "cell_type": "code",
   "execution_count": null,
   "metadata": {},
   "outputs": [],
   "source": [
    "#|default_exp wiki"
   ]
  },
  {
   "cell_type": "code",
   "execution_count": null,
   "metadata": {},
   "outputs": [],
   "source": [
    "#| hide\n",
    "from nbdev.showdoc import *"
   ]
  },
  {
   "cell_type": "code",
   "execution_count": null,
   "metadata": {},
   "outputs": [],
   "source": [
    "#| export\n",
    "import httpx\n",
    "from bs4 import BeautifulSoup\n",
    "import html2text\n",
    "from IPython.display import Markdown"
   ]
  },
  {
   "cell_type": "markdown",
   "metadata": {},
   "source": [
    "## WikiArticle"
   ]
  },
  {
   "cell_type": "code",
   "execution_count": null,
   "metadata": {},
   "outputs": [],
   "source": [
    "#| export\n",
    "class WikiArticle:\n",
    "    \"Grab a wikipedia article to analyze.\"\n",
    "    def __init__(self, url):\n",
    "        if not url.startswith('https://en.wikipedia.org/wiki/'): \n",
    "            raise ValueError(\"Must be English Wikipedia URL\")\n",
    "        self.url = url\n",
    "        self._soup = None\n",
    "        \n",
    "    @property\n",
    "    def soup(self):\n",
    "        if self._soup is None:\n",
    "            self._soup = BeautifulSoup(httpx.get(self.url).text, 'lxml')\n",
    "        return self._soup\n",
    "    \n",
    "    @property\n",
    "    def title(self): return self.soup.find('h1', id='firstHeading').text.strip()\n",
    "    \n",
    "    @property\n",
    "    def introduction(self):\n",
    "        \"Select an introduction from the `WikiArticle`.\"\n",
    "        content = self.soup.select_one(\"#mw-content-text > div.mw-content-ltr.mw-parser-output\")\n",
    "        paragraphs = []\n",
    "        for p in content.find_all('p'):\n",
    "            if p.find_previous('div', class_='mw-heading mw-heading2'): break\n",
    "            if text := p.text.strip(): paragraphs.append(text)\n",
    "        return '\\n\\n'.join(paragraphs)"
   ]
  },
  {
   "cell_type": "code",
   "execution_count": null,
   "metadata": {},
   "outputs": [
    {
     "data": {
      "text/markdown": [
       "---\n",
       "\n",
       "### WikiArticle\n",
       "\n",
       ">      WikiArticle (url)\n",
       "\n",
       "*Grab a wikipedia article to analyze.*"
      ],
      "text/plain": [
       "---\n",
       "\n",
       "### WikiArticle\n",
       "\n",
       ">      WikiArticle (url)\n",
       "\n",
       "*Grab a wikipedia article to analyze.*"
      ]
     },
     "execution_count": null,
     "metadata": {},
     "output_type": "execute_result"
    }
   ],
   "source": [
    "show_doc(WikiArticle)"
   ]
  },
  {
   "cell_type": "code",
   "execution_count": null,
   "metadata": {},
   "outputs": [
    {
     "data": {
      "text/markdown": [
       "---\n",
       "\n",
       "### WikiArticle.introduction\n",
       "\n",
       ">      WikiArticle.introduction ()\n",
       "\n",
       "*Select an introduction from the `WikiArticle`.*"
      ],
      "text/plain": [
       "---\n",
       "\n",
       "### WikiArticle.introduction\n",
       "\n",
       ">      WikiArticle.introduction ()\n",
       "\n",
       "*Select an introduction from the `WikiArticle`.*"
      ]
     },
     "execution_count": null,
     "metadata": {},
     "output_type": "execute_result"
    }
   ],
   "source": [
    "show_doc(WikiArticle.introduction)"
   ]
  },
  {
   "cell_type": "code",
   "execution_count": null,
   "metadata": {},
   "outputs": [
    {
     "name": "stdout",
     "output_type": "stream",
     "text": [
      "Evolution of snake venom\n",
      "Venom in snakes and some lizards is a form of saliva that has been modified into venom over its evolutionary history.[1] In snakes, venom has evolved to kill or subdue prey, as well as to perform other diet-related functions.[2] While snakes occasionally use their venom in self defense, this is not believed to have had a strong effect on venom evolution.[3] The evolution of venom is thought to be responsible for the enormous expansion of snakes across the globe.[4][5][6]\n",
      "\n",
      "The evolutionary history of snake venom is a matter of debate. Historically, snake venom was believed to have evolved once, at the base of the Caenophidia, or derived snakes. Molecular studies published beginning in 2006 suggested that venom originated just once among a putative clade of reptiles, called Toxicofera, approximately 170 million years ago.[7] Under this hypothesis, the original toxicoferan venom was a very simple set of proteins that were assembled in a pair of glands. Subsequently, this set of proteins diversified in the various lineages of toxicoferans, including Serpentes, Anguimorpha, and Iguania: several snake lineages also lost the ability to produce venom.[8][9] The Toxicoferan hypothesis was challenged by studies in the mid-2010s, including a 2015 study which found that venom proteins had homologs in many other tissues in the Burmese python.[10][11]  The study therefore suggested that venom had evolved independently in different reptile lineages, including once in the Caenophid snakes.[10] Venom containing most extant toxin families is believed to have been present in the last common ancestor of the Caenophidia: these toxins subsequently underwent tremendous diversification, accompanied by changes in the morphology of venom glands and delivery systems.[12]\n",
      "\n",
      "Snake venom evolution is thought to be driven by an evolutionary arms race between venom proteins and prey physiology.[13] The common mechanism of evolution is thought to be gene duplication followed by natural selection for adaptive traits.[14] The adaptations produced by this process include venom more toxic to specific prey in several lineages,[15][16][17] proteins that pre-digest prey,[18] and a method to track down prey after a bite.[19] These various adaptations of venom have also led to considerable debate about the definition of venom and venomous snakes.[20] Changes in the diet of a lineage have been linked to atrophication of the venom.[8][9]\n"
     ]
    }
   ],
   "source": [
    "article = WikiArticle(\"https://en.wikipedia.org/wiki/Evolution_of_snake_venom\")\n",
    "print(article.title)\n",
    "print(article.introduction)"
   ]
  },
  {
   "cell_type": "code",
   "execution_count": null,
   "metadata": {},
   "outputs": [
    {
     "data": {
      "text/plain": [
       "'Venom in snakes and some lizards is a form of saliva that has been modified into venom over its evolutionary history.[1] In snakes, venom has evolved to kill or subdue prey, as well as to perform other diet-related functions.[2] While snakes occasionally use their venom in self defense, this is not believed to have had a strong effect on venom evolution.[3] The evolution of venom is thought to be responsible for the enormous expansion of snakes across the globe.[4][5][6]\\n\\nThe evolutionary history of snake venom is a matter of debate. Historically, snake venom was believed to have evolved once, at the base of the Caenophidia, or derived snakes. Molecular studies published beginning in 2006 suggested that venom originated just once among a putative clade of reptiles, called Toxicofera, approximately 170 million years ago.[7] Under this hypothesis, the original toxicoferan venom was a very simple set of proteins that were assembled in a pair of glands. Subsequently, this set of proteins diversified in the various lineages of toxicoferans, including Serpentes, Anguimorpha, and Iguania: several snake lineages also lost the ability to produce venom.[8][9] The Toxicoferan hypothesis was challenged by studies in the mid-2010s, including a 2015 study which found that venom proteins had homologs in many other tissues in the Burmese python.[10][11]  The study therefore suggested that venom had evolved independently in different reptile lineages, including once in the Caenophid snakes.[10] Venom containing most extant toxin families is believed to have been present in the last common ancestor of the Caenophidia: these toxins subsequently underwent tremendous diversification, accompanied by changes in the morphology of venom glands and delivery systems.[12]\\n\\nSnake venom evolution is thought to be driven by an evolutionary arms race between venom proteins and prey physiology.[13] The common mechanism of evolution is thought to be gene duplication followed by natural selection for adaptive traits.[14] The adaptations produced by this process include venom more toxic to specific prey in several lineages,[15][16][17] proteins that pre-digest prey,[18] and a method to track down prey after a bite.[19] These various adaptations of venom have also led to considerable debate about the definition of venom and venomous snakes.[20] Changes in the diet of a lineage have been linked to atrophication of the venom.[8][9]'"
      ]
     },
     "execution_count": null,
     "metadata": {},
     "output_type": "execute_result"
    }
   ],
   "source": [
    "intros = article.introduction\n",
    "intros"
   ]
  },
  {
   "cell_type": "markdown",
   "metadata": {},
   "source": [
    "## Using Claudette"
   ]
  },
  {
   "cell_type": "markdown",
   "metadata": {},
   "source": [
    "Using `claudette`, we can analyze the article. When analyzing, it decides on:\n",
    "\n",
    "- interest_rating: Rating 1-10 of how interesting the article is for this reader based on the background\n",
    "- interest_reason: Markdown explanation for interest rating (max 50 words) for this reader based on the background\n",
    "- difficulty_rating: Rating 1-10 of how difficult the article is for this reader based on the background\n",
    "- difficulty_reason: Markdown explanation for difficulty rating (max 50 words) for this reader based on the background\n",
    "- prerequisites: List of topics reader should know before reading for this reader based on the background\n",
    "- prereq_reason: Markdown explanation for prerequisites (max 50 words) for this reader based on the background\n",
    "  "
   ]
  },
  {
   "cell_type": "code",
   "execution_count": null,
   "metadata": {},
   "outputs": [],
   "source": [
    "#| export\n",
    "from claudette import Chat, Client, models\n",
    "from fastcore.utils import *"
   ]
  },
  {
   "cell_type": "code",
   "execution_count": null,
   "metadata": {},
   "outputs": [
    {
     "data": {
      "text/plain": [
       "['claude-3-opus-20240229',\n",
       " 'claude-3-5-sonnet-20241022',\n",
       " 'claude-3-haiku-20240307',\n",
       " 'claude-3-5-haiku-20241022']"
      ]
     },
     "execution_count": null,
     "metadata": {},
     "output_type": "execute_result"
    }
   ],
   "source": [
    "models"
   ]
  },
  {
   "cell_type": "markdown",
   "metadata": {},
   "source": [
    "Using haiku is not recommended as it is not reliable."
   ]
  },
  {
   "cell_type": "code",
   "execution_count": null,
   "metadata": {},
   "outputs": [],
   "source": [
    "client = Client(models[1])"
   ]
  },
  {
   "cell_type": "code",
   "execution_count": null,
   "metadata": {},
   "outputs": [],
   "source": [
    "#| export\n",
    "class ArticleAnalysis:\n",
    "    \"Analysis of a Wikipedia article for a reader based on the background.\"\n",
    "    def __init__(self,\n",
    "                interest_rating: int,        # Rating 1-10 of how interesting the article is for this reader based on the background\n",
    "                interest_reason: str,        # Markdown explanation for interest rating (max 50 words) for this reader based on the background\n",
    "                difficulty_rating: int,      # Rating 1-10 of how difficult the article is for this reader based on the background\n",
    "                difficulty_reason: str,      # Markdown explanation for difficulty rating (max 50 words) for this reader based on the background\n",
    "                prerequisites: list[str],    # List of topics reader should know before reading for this reader based on the background\n",
    "                prereq_reason: str,          # Markdown explanation for prerequisites (max 50 words) for this reader based on the background\n",
    "    ):\n",
    "        assert 1 <= interest_rating <= 10, \"Interest rating must be between 1 and 10\"\n",
    "        assert 1 <= difficulty_rating <= 10, \"Difficulty rating must be between 1 and 10\"\n",
    "        store_attr()\n",
    "        \n",
    "    __repr__ = basic_repr('interest_rating, interest_reason, difficulty_rating, difficulty_reason, prerequisites, prereq_reason')"
   ]
  },
  {
   "cell_type": "code",
   "execution_count": null,
   "metadata": {},
   "outputs": [],
   "source": [
    "#| export\n",
    "def analyze_article_for_reader(article_text: str, background: str) -> ArticleAnalysis:\n",
    "    \"Analyze a Wikipedia article for a specific reader background\"\n",
    "    prompt = f\"\"\"Here's a Wikipedia article introduction:\n",
    "\n",
    "<problem>\n",
    "Analyze this article introduction for the given reader background. Provide:\n",
    "1. Interest rating (1-10) with brief reason\n",
    "2. Difficulty rating (1-10) with brief reason\n",
    "3. Prerequisites needed, with reason why they're important\n",
    "Keep all explanations under 50 words.\n",
    "</problem>\n",
    "\n",
    "<article>\n",
    "{article_text}\n",
    "</article>\n",
    "\n",
    "<reader_background>\n",
    "{background}\n",
    "</reader_background>\n",
    "\"\"\"\n",
    "    \n",
    "    return client.structured(prompt, ArticleAnalysis)[0]"
   ]
  },
  {
   "cell_type": "code",
   "execution_count": null,
   "metadata": {},
   "outputs": [],
   "source": [
    "backgrounds = {\n",
    "    'high_school': \"\"\"Background of the reader:\n",
    "- High school graduate\n",
    "- Interested in science but no formal training beyond high school\n",
    "- Enjoys nature documentaries\n",
    "- Has basic understanding of how evolution works from school and documentaries\n",
    "\"\"\",\n",
    "    'college_bio': \"\"\"Background of the reader:\n",
    "- A college student\n",
    "- Familiar with evolutionary biology, organic chemistry, statistics, immunology, genetics, molecular genetics, molecular biology, and linear algebra.\n",
    "- Interested in science related to machine learning, statistics, immunology, organic chemistry, genetics, genomics, and bioinformatics.\n",
    "\"\"\",\n",
    "    'humanities': \"\"\"Background of the reader:\n",
    "- English Literature professor\n",
    "- Interested in narrative and historical developments\n",
    "- Reads Scientific American occasionally\n",
    "- No formal science education beyond high school\n",
    "- Hates science.\n",
    "\"\"\",\n",
    "    'tech_professional': \"\"\"Background of the reader:\n",
    "- Software engineer with computer science degree\n",
    "- Familiar with complex systems and algorithms\n",
    "- Reads tech blogs and popular science articles\n",
    "- Basic understanding of scientific method\n",
    "\"\"\",\n",
    "    'medical_practitioner': \"\"\"Background of the reader:\n",
    "- Primary care physician\n",
    "- Strong understanding of human anatomy and physiology\n",
    "- Familiar with pharmacology and toxicology\n",
    "- Limited exposure to evolutionary biology\n",
    "\"\"\"\n",
    "}"
   ]
  },
  {
   "cell_type": "code",
   "execution_count": null,
   "metadata": {},
   "outputs": [
    {
     "name": "stdout",
     "output_type": "stream",
     "text": [
      "\n",
      "Analysis for high_school:\n",
      "ArticleAnalysis(interest_rating=8, interest_reason='Perfect match for someone who enjoys nature documentaries. The evolutionary arms race and how snakes developed venom connects well with their existing interest in evolution and natural history.', difficulty_rating=7, difficulty_reason='Contains complex scientific terminology (Caenophidia, Toxicofera) and molecular biology concepts. While main ideas are accessible, specific details may be challenging without advanced biology background.', prerequisites=['Basic evolution concepts', 'High school biology', 'Understanding of proteins and genes', 'Basic taxonomy/classification of reptiles'], prereq_reason='Understanding evolution and basic biology is crucial for following the venom development discussion. Knowledge of proteins and taxonomy helps grasp the molecular aspects and species relationships mentioned.')\n",
      "\n",
      "Analysis for college_bio:\n",
      "ArticleAnalysis(interest_rating=8, interest_reason='Combines molecular biology, genetics, and evolutionary biology to explain venom development. The arms race concept and molecular adaptation mechanisms should appeal to someone interested in bioinformatics and immunology.', difficulty_rating=3, difficulty_reason=\"Content aligns well with reader's strong background in evolutionary biology, molecular genetics, and immunology. Technical concepts like gene duplication and protein evolution should be familiar.\", prerequisites=['Basic evolutionary biology', 'Molecular genetics fundamentals', 'Protein structure and function', 'Gene duplication concepts', 'Natural selection principles'], prereq_reason='Understanding protein evolution, gene duplication, and natural selection is crucial for grasping how venom evolved and diversified across species. These concepts form the foundation of the molecular mechanisms discussed.')\n",
      "\n",
      "Analysis for humanities:\n",
      "ArticleAnalysis(interest_rating=7, interest_reason=\"Despite reader's science aversion, the evolutionary narrative and historical debate around snake venom development offers compelling storytelling elements that would appeal to someone interested in historical developments.\", difficulty_rating=6, difficulty_reason=\"While written academically, most concepts are explained. However, technical terms like 'Caenophidia', 'homologs', and 'gene duplication' may challenge a reader without science background.\", prerequisites=['Basic understanding of evolution', 'Familiarity with scientific debate/discourse', 'Basic biology concepts (proteins, genes)', 'Understanding of academic citation style'], prereq_reason='These fundamentals help follow the historical debate and evolutionary concepts. Without them, the technical discussion of protein evolution and taxonomic classifications would be challenging to grasp.')\n",
      "\n",
      "Analysis for tech_professional:\n",
      "ArticleAnalysis(interest_rating=8, interest_reason='The evolutionary algorithms and system complexity of venom development would appeal to a software engineer. The concept of evolutionary arms race parallels optimization problems in computing.', difficulty_rating=6, difficulty_reason='While technical, the concepts of evolution and system adaptation are familiar to someone with CS background. However, specific biological terminology and phylogenetic concepts may be challenging.', prerequisites=['Basic evolution concepts', 'Understanding of protein biology', 'Familiarity with phylogenetic trees', 'Knowledge of natural selection'], prereq_reason='These topics provide framework for understanding how venom systems evolved, how proteins modify through gene duplication, and how species relationships affect trait development.')\n",
      "\n",
      "Analysis for medical_practitioner:\n",
      "ArticleAnalysis(interest_rating=8, interest_reason=\"Highly relevant for medical professionals due to clinical implications of snake venom and its pharmacological properties. Connects to physician's knowledge of human physiology and toxicology.\", difficulty_rating=6, difficulty_reason='While medical terminology is familiar, evolutionary concepts and molecular biology terms may be challenging. Complex phylogenetic relationships and genetic mechanisms require additional context.', prerequisites=['Basic evolutionary biology concepts', 'Molecular biology fundamentals', 'Phylogenetics basics', 'Gene duplication and natural selection', 'Protein synthesis and modification'], prereq_reason='Understanding evolutionary mechanisms and molecular biology is crucial for grasping how venom evolved and diversified. These concepts explain the development of different toxin families and their clinical effects.')\n"
     ]
    }
   ],
   "source": [
    "for reader_type, background in backgrounds.items():\n",
    "    analysis = analyze_article_for_reader(intros, background)\n",
    "    print(f\"\\nAnalysis for {reader_type}:\")\n",
    "    print(analysis)"
   ]
  },
  {
   "cell_type": "markdown",
   "metadata": {},
   "source": [
    "Interesting to see that everyone likes to read evolution of snake venom."
   ]
  },
  {
   "cell_type": "markdown",
   "metadata": {},
   "source": [
    "## Running in parallel"
   ]
  },
  {
   "cell_type": "markdown",
   "metadata": {},
   "source": [
    "It is quite slow analyzing one by one. It is possible to analyze multiple articles in parallel, but this is prone to `rate_limit_error`."
   ]
  },
  {
   "cell_type": "code",
   "execution_count": null,
   "metadata": {},
   "outputs": [],
   "source": [
    "#| export\n",
    "from concurrent.futures import ThreadPoolExecutor, ProcessPoolExecutor\n",
    "import sys\n",
    "from typing import List, Dict\n",
    "import threading"
   ]
  },
  {
   "cell_type": "code",
   "execution_count": null,
   "metadata": {},
   "outputs": [],
   "source": [
    "#| export\n",
    "def is_interactive() -> bool:\n",
    "    \"Check if we're running in an interactive environment (IPython/Jupyter)\"\n",
    "    return hasattr(sys, 'ps1') or bool(sys.flags.interactive) or 'ipykernel' in sys.modules"
   ]
  },
  {
   "cell_type": "code",
   "execution_count": null,
   "metadata": {},
   "outputs": [
    {
     "data": {
      "text/plain": [
       "True"
      ]
     },
     "execution_count": null,
     "metadata": {},
     "output_type": "execute_result"
    }
   ],
   "source": [
    "is_interactive()"
   ]
  },
  {
   "cell_type": "markdown",
   "metadata": {},
   "source": [
    "We use `ThreadPoolExecuter` if we are in interactive mode, but we switch to `ProcessPoolExecutor` when we are running it in script."
   ]
  },
  {
   "cell_type": "code",
   "execution_count": null,
   "metadata": {},
   "outputs": [],
   "source": [
    "#| export\n",
    "def analyze_multiple_articles(articles: List[str], backgrounds: Dict[str, str], max_workers: int = None) -> Dict[str, Dict[str, ArticleAnalysis]]:\n",
    "    \"Analyze multiple articles for different reader backgrounds in parallel\"\n",
    "    Executor = ThreadPoolExecutor if is_interactive() else ProcessPoolExecutor\n",
    "    results = {}\n",
    "    with Executor(max_workers=max_workers) as executor:\n",
    "        futures = {}\n",
    "        for article_idx, article_text in enumerate(articles):\n",
    "            results[article_idx] = {}\n",
    "            for reader_type, background in backgrounds.items():\n",
    "                future = executor.submit(analyze_article_for_reader, article_text, background)\n",
    "                futures[(article_idx, reader_type)] = future\n",
    "        for (article_idx, reader_type), future in futures.items():\n",
    "            try:\n",
    "                results[article_idx][reader_type] = future.result()\n",
    "            except Exception as e:\n",
    "                results[article_idx][reader_type] = None\n",
    "    return results"
   ]
  },
  {
   "cell_type": "code",
   "execution_count": null,
   "metadata": {},
   "outputs": [],
   "source": [
    "boring_articles = {\n",
    "    'bureaucracy': WikiArticle(\"https://en.wikipedia.org/wiki/ISO_216\").introduction,  # Paper size standards\n",
    "    'statistics': WikiArticle(\"https://en.wikipedia.org/wiki/Analysis_of_variance\").introduction,  # Dense statistical methods\n",
    "    'obscure': WikiArticle(\"https://en.wikipedia.org/wiki/List_of_writing_systems\").introduction,  # Dry list of writing systems\n",
    "    'methodology': WikiArticle(\"https://en.wikipedia.org/wiki/ISO_8601\").introduction,  # Date/time formatting standards\n",
    "}"
   ]
  },
  {
   "cell_type": "code",
   "execution_count": null,
   "metadata": {},
   "outputs": [
    {
     "data": {
      "text/plain": [
       "{'bureaucracy': 'ISO 216 is an international standard for paper sizes, used around the world except in North America and parts of Latin America. The standard defines the \"A\", \"B\" and \"C\" series of paper sizes, which includes the A4, the most commonly available paper size worldwide. Two supplementary standards, ISO 217 and ISO 269, define related paper sizes; the ISO 269 \"C\" series is commonly listed alongside the A and B sizes.\\n\\nAll ISO 216, ISO 217 and ISO 269 paper sizes (except some envelopes) have the same aspect ratio, √2:1, within rounding to millimetres. This ratio has the unique property that when cut or folded in half widthways, the halves also have the same aspect ratio. Each ISO paper size is one half of the area of the next larger size in the same series.[1]',\n",
       " 'statistics': 'Analysis of variance (ANOVA) is a collection of statistical models and their associated estimation procedures (such as the \"variation\" among and between groups) used to analyze the differences between groups. It uses F-test by comparing variance between groups and taking noise, or assumed normal distribution of group, into consideration by dividing by variance between elements in a group. ANOVA was developed by the statistician Ronald Fisher. ANOVA is based on the law of total variance, where the observed variance in a particular variable is partitioned into components attributable to different sources of variation. In its simplest form, ANOVA provides a statistical test of whether two or more population means are equal, and therefore generalizes the t-test beyond two means. In other words, the ANOVA is used to test the difference between two or more means.',\n",
       " 'obscure': 'Writing systems are used to record human language, and may be classified according to certain common features.\\n\\nThe usual name of the script is given first; the name of the languages in which the script is written follows (in brackets), particularly in the case where the language name differs from the script name. Other informative or qualifying annotations for the script may also be provided.',\n",
       " 'methodology': '2025-01-14T03:29:02+00:00 UTC+00:00 [refresh]\\n\\nISO 8601 is an international standard covering the worldwide exchange and communication of date and time-related data. It is maintained by the International Organization for Standardization (ISO) and was first published in 1988, with updates in 1991, 2000, 2004, and 2019, and an amendment in 2022.[1] The standard provides a well-defined, unambiguous method of representing calendar dates and times in worldwide communications, especially to avoid misinterpreting numeric dates and times when such data is transferred between countries with different conventions for writing numeric dates and times.\\n\\nISO\\xa08601 applies to these representations and formats: dates, in the Gregorian calendar (including the proleptic Gregorian calendar); times, based on the 24-hour timekeeping system, with optional UTC offset; time intervals; and combinations thereof.[2] The standard does not assign specific meaning to any element of the dates/times represented: the meaning of any element depends on the context of its use. Dates and times represented cannot use words that do not have a specified numerical meaning within the standard (thus excluding names of years in the Chinese calendar), or that do not use computer characters (excludes images or sounds).[2]\\n\\nIn representations that adhere to the ISO\\xa08601 interchange standard, dates and times are arranged such that the greatest temporal term (typically a year) is placed at the left and each successively lesser term is placed to the right of the previous term. Representations must be written in a combination of Arabic numerals and the specific computer characters (such as \"‐\", \":\", \"T\", \"W\", \"Z\") that are assigned specific meanings within the standard; that is, such commonplace descriptors of dates (or parts of dates) as \"January\", \"Thursday\", or \"New Year\\'s Day\" are not allowed in interchange representations within the standard.'}"
      ]
     },
     "execution_count": null,
     "metadata": {},
     "output_type": "execute_result"
    }
   ],
   "source": [
    "boring_articles"
   ]
  },
  {
   "cell_type": "code",
   "execution_count": null,
   "metadata": {},
   "outputs": [
    {
     "data": {
      "text/plain": [
       "{0: {'high_school': ArticleAnalysis(interest_rating=6, interest_reason='The mathematical property of paper sizes maintaining their ratio when halved is an intriguing scientific concept that could appeal to someone interested in discovering patterns in everyday objects.', difficulty_rating=4, difficulty_reason='While the concept of aspect ratios and paper sizes is straightforward, the mathematical relationship (√2:1) might be slightly challenging but still accessible with basic high school math.', prerequisites=['Basic geometry knowledge', 'Understanding of ratios and proportions', 'Familiarity with square roots'], prereq_reason='These math concepts are essential to grasp the unique properties of the paper size system and why the √2:1 ratio is special when folding paper.'),\n",
       "  'college_bio': ArticleAnalysis(interest_rating=4, interest_reason=\"While the mathematical property of √2:1 ratio may appeal to someone with math background, the topic of paper sizes is quite removed from the reader's core interests in biological sciences and machine learning.\", difficulty_rating=3, difficulty_reason=\"Content is straightforward with basic mathematical concepts. Reader's background in linear algebra makes the geometric and ratio concepts easily accessible.\", prerequisites=['Basic geometry', 'Understanding of ratios', 'Metric system'], prereq_reason='Need basic geometry to understand aspect ratios, general mathematical literacy for √2 concept, and familiarity with metric measurements for paper dimensions.'),\n",
       "  'humanities': None,\n",
       "  'tech_professional': ArticleAnalysis(interest_rating=7, interest_reason='The mathematical properties and systematic nature of paper sizes would appeal to a software engineer, especially the recursive aspect ratio property and algorithmic scaling relationship.', difficulty_rating=3, difficulty_reason='Content is straightforward for someone with technical background. The mathematical concepts (aspect ratios, √2) are basic and familiar to someone with CS degree.', prerequisites=['Basic geometry knowledge', 'Understanding of ratios and square roots', 'Metric system familiarity'], prereq_reason='These math concepts are essential to grasp the paper size relationships. Metric understanding helps with measurements, while geometry knowledge aids in visualizing the folding properties.'),\n",
       "  'medical_practitioner': None},\n",
       " 1: {'high_school': ArticleAnalysis(interest_rating=5, interest_reason='While statistics can help understand scientific studies, this technical introduction may not strongly appeal to someone mainly interested in nature and evolution, despite their general science interest.', difficulty_rating=8, difficulty_reason='The article uses complex statistical terminology and mathematical concepts that go beyond high school level, including variance, F-tests, and population means.', prerequisites=['Basic algebra', 'Basic probability', 'Understanding of mean/average', 'Basic statistical concepts', 'Understanding of variance'], prereq_reason='Statistical analysis requires foundation in mathematical concepts. Understanding means, variance, and probability is essential to grasp how ANOVA compares groups and analyzes differences.'),\n",
       "  'college_bio': ArticleAnalysis(interest_rating=8, interest_reason=\"ANOVA is fundamental to statistical analysis in bioinformatics and genetics research. Given the reader's interest in statistics and machine learning, understanding ANOVA is crucial for analyzing biological data.\", difficulty_rating=4, difficulty_reason='With background in statistics and linear algebra, the concepts of variance and statistical testing should be familiar. The mathematical foundations align well with their current knowledge.', prerequisites=['Basic statistics', 'Probability theory', 'Understanding of variance', 'F-distribution knowledge', 'Hypothesis testing concepts'], prereq_reason='These topics are essential because ANOVA builds on fundamental statistical concepts. Understanding variance, probability distributions, and hypothesis testing is crucial for grasping how ANOVA compares group means.'),\n",
       "  'humanities': None,\n",
       "  'tech_professional': None,\n",
       "  'medical_practitioner': None},\n",
       " 2: {'high_school': None,\n",
       "  'college_bio': None,\n",
       "  'humanities': ArticleAnalysis(interest_rating=7, interest_reason='As a literature professor, understanding writing systems and their classification directly relates to their field. The historical and linguistic aspects align with their interest in narrative development.', difficulty_rating=3, difficulty_reason='The content is straightforward and focuses on classification and naming conventions. No complex scientific concepts are involved, making it accessible for someone with humanities background.', prerequisites=['Basic understanding of language terminology', 'Familiarity with concept of writing systems', 'Basic knowledge of linguistic terminology'], prereq_reason=\"These basics help understand how writing systems are categorized and named. The reader's literature background likely covers these prerequisites well.\"),\n",
       "  'tech_professional': None,\n",
       "  'medical_practitioner': None},\n",
       " 3: {'high_school': None,\n",
       "  'college_bio': None,\n",
       "  'humanities': None,\n",
       "  'tech_professional': ArticleAnalysis(interest_rating=8, interest_reason=\"Highly relevant for software engineers who deal with date/time data in international systems. Explains standardization that's crucial for preventing bugs and ensuring consistent data exchange.\", difficulty_rating=3, difficulty_reason='Content aligns well with software engineering knowledge. Concepts of standardization, data formats, and international systems are familiar territory for CS graduates.', prerequisites=['Basic understanding of date/time formats', 'Familiarity with character encoding', 'Knowledge of time zones', 'Basic understanding of calendaring systems'], prereq_reason='These concepts are fundamental to understanding date/time standardization. Reader needs to grasp why different formats exist and potential problems in international data exchange.'),\n",
       "  'medical_practitioner': None}}"
      ]
     },
     "execution_count": null,
     "metadata": {},
     "output_type": "execute_result"
    }
   ],
   "source": [
    "test_results = analyze_multiple_articles(list(boring_articles.values()), backgrounds)\n",
    "test_results"
   ]
  },
  {
   "cell_type": "code",
   "execution_count": null,
   "metadata": {},
   "outputs": [
    {
     "data": {
      "text/plain": [
       "{0: {'high_school': ArticleAnalysis(interest_rating=6, interest_reason='The mathematical property of paper sizes maintaining their ratio when halved is an intriguing scientific concept that could appeal to someone interested in discovering patterns in everyday objects.', difficulty_rating=4, difficulty_reason='While the concept of aspect ratios and paper sizes is straightforward, the mathematical relationship (√2:1) might be slightly challenging but still accessible with basic high school math.', prerequisites=['Basic geometry knowledge', 'Understanding of ratios and proportions', 'Familiarity with square roots'], prereq_reason='These math concepts are essential to grasp the unique properties of the paper size system and why the √2:1 ratio is special when folding paper.'),\n",
       "  'college_bio': ArticleAnalysis(interest_rating=4, interest_reason=\"While the mathematical property of √2:1 ratio may appeal to someone with math background, the topic of paper sizes is quite removed from the reader's core interests in biological sciences and machine learning.\", difficulty_rating=3, difficulty_reason=\"Content is straightforward with basic mathematical concepts. Reader's background in linear algebra makes the geometric and ratio concepts easily accessible.\", prerequisites=['Basic geometry', 'Understanding of ratios', 'Metric system'], prereq_reason='Need basic geometry to understand aspect ratios, general mathematical literacy for √2 concept, and familiarity with metric measurements for paper dimensions.'),\n",
       "  'humanities': None,\n",
       "  'tech_professional': ArticleAnalysis(interest_rating=7, interest_reason='The mathematical properties and systematic nature of paper sizes would appeal to a software engineer, especially the recursive aspect ratio property and algorithmic scaling relationship.', difficulty_rating=3, difficulty_reason='Content is straightforward for someone with technical background. The mathematical concepts (aspect ratios, √2) are basic and familiar to someone with CS degree.', prerequisites=['Basic geometry knowledge', 'Understanding of ratios and square roots', 'Metric system familiarity'], prereq_reason='These math concepts are essential to grasp the paper size relationships. Metric understanding helps with measurements, while geometry knowledge aids in visualizing the folding properties.'),\n",
       "  'medical_practitioner': None},\n",
       " 1: {'high_school': ArticleAnalysis(interest_rating=5, interest_reason='While statistics can help understand scientific studies, this technical introduction may not strongly appeal to someone mainly interested in nature and evolution, despite their general science interest.', difficulty_rating=8, difficulty_reason='The article uses complex statistical terminology and mathematical concepts that go beyond high school level, including variance, F-tests, and population means.', prerequisites=['Basic algebra', 'Basic probability', 'Understanding of mean/average', 'Basic statistical concepts', 'Understanding of variance'], prereq_reason='Statistical analysis requires foundation in mathematical concepts. Understanding means, variance, and probability is essential to grasp how ANOVA compares groups and analyzes differences.'),\n",
       "  'college_bio': ArticleAnalysis(interest_rating=8, interest_reason=\"ANOVA is fundamental to statistical analysis in bioinformatics and genetics research. Given the reader's interest in statistics and machine learning, understanding ANOVA is crucial for analyzing biological data.\", difficulty_rating=4, difficulty_reason='With background in statistics and linear algebra, the concepts of variance and statistical testing should be familiar. The mathematical foundations align well with their current knowledge.', prerequisites=['Basic statistics', 'Probability theory', 'Understanding of variance', 'F-distribution knowledge', 'Hypothesis testing concepts'], prereq_reason='These topics are essential because ANOVA builds on fundamental statistical concepts. Understanding variance, probability distributions, and hypothesis testing is crucial for grasping how ANOVA compares group means.'),\n",
       "  'humanities': None,\n",
       "  'tech_professional': None,\n",
       "  'medical_practitioner': None},\n",
       " 2: {'high_school': None,\n",
       "  'college_bio': None,\n",
       "  'humanities': ArticleAnalysis(interest_rating=7, interest_reason='As a literature professor, understanding writing systems and their classification directly relates to their field. The historical and linguistic aspects align with their interest in narrative development.', difficulty_rating=3, difficulty_reason='The content is straightforward and focuses on classification and naming conventions. No complex scientific concepts are involved, making it accessible for someone with humanities background.', prerequisites=['Basic understanding of language terminology', 'Familiarity with concept of writing systems', 'Basic knowledge of linguistic terminology'], prereq_reason=\"These basics help understand how writing systems are categorized and named. The reader's literature background likely covers these prerequisites well.\"),\n",
       "  'tech_professional': None,\n",
       "  'medical_practitioner': None},\n",
       " 3: {'high_school': None,\n",
       "  'college_bio': None,\n",
       "  'humanities': None,\n",
       "  'tech_professional': ArticleAnalysis(interest_rating=8, interest_reason=\"Highly relevant for software engineers who deal with date/time data in international systems. Explains standardization that's crucial for preventing bugs and ensuring consistent data exchange.\", difficulty_rating=3, difficulty_reason='Content aligns well with software engineering knowledge. Concepts of standardization, data formats, and international systems are familiar territory for CS graduates.', prerequisites=['Basic understanding of date/time formats', 'Familiarity with character encoding', 'Knowledge of time zones', 'Basic understanding of calendaring systems'], prereq_reason='These concepts are fundamental to understanding date/time standardization. Reader needs to grasp why different formats exist and potential problems in international data exchange.'),\n",
       "  'medical_practitioner': None}}"
      ]
     },
     "execution_count": null,
     "metadata": {},
     "output_type": "execute_result"
    }
   ],
   "source": [
    "test_results"
   ]
  },
  {
   "cell_type": "markdown",
   "metadata": {},
   "source": [
    "`None` means we got an error. Most likely from rate limit. \n",
    "\n",
    "It's good to see that people have different interest ratings and difficulty ratings based on their background."
   ]
  },
  {
   "cell_type": "code",
   "execution_count": null,
   "metadata": {},
   "outputs": [],
   "source": [
    "#| hide\n",
    "import nbdev; nbdev.nbdev_export()"
   ]
  },
  {
   "cell_type": "code",
   "execution_count": null,
   "metadata": {},
   "outputs": [],
   "source": []
  }
 ],
 "metadata": {
  "kernelspec": {
   "display_name": "python3",
   "language": "python",
   "name": "python3"
  }
 },
 "nbformat": 4,
 "nbformat_minor": 4
}
